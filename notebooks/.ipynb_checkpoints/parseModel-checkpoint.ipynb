{
 "cells": [
  {
   "cell_type": "code",
   "execution_count": 1,
   "metadata": {},
   "outputs": [],
   "source": [
    "import yaml"
   ]
  },
  {
   "cell_type": "code",
   "execution_count": 2,
   "metadata": {},
   "outputs": [],
   "source": [
    "inputFile = '../model.yml'"
   ]
  },
  {
   "cell_type": "code",
   "execution_count": 3,
   "metadata": {},
   "outputs": [],
   "source": [
    "with open(inputFile, 'r') as f:\n",
    "    modelData = yaml.safe_load(f.read())"
   ]
  },
  {
   "cell_type": "code",
   "execution_count": 4,
   "metadata": {},
   "outputs": [
    {
     "data": {
      "text/plain": [
       "[{'id': 'artwork',\n",
       "  'label': 'Artwork',\n",
       "  'type': 'crm:E22_Man-Made_Object',\n",
       "  'children': [{'id': 'artwork_genre',\n",
       "    'label': 'Genre',\n",
       "    'query': ' $subject crm:P2_has_type ?value . ?value crm:P2_has_type sari:genre ; rdfs:label ?label . ',\n",
       "    'sources': [{'id': 'zbz', 'field': '655$a'}]},\n",
       "   {'id': 'artwork_medium',\n",
       "    'label': 'Medium',\n",
       "    'query': ' $subject crm:P2_has_type ?value . ?value crm:P2_has_type sari:medium ; rdfs:label ?label . ',\n",
       "    'sources': [{'id': 'zbz', 'field': '245$h'}]},\n",
       "   {'id': 'work',\n",
       "    'label': 'Work',\n",
       "    'query': ' $subject crm:P128_carries ?value . ',\n",
       "    'children': [{'id': 'work_creation',\n",
       "      'label': 'Creation',\n",
       "      'query': ' $subject crm:P94i_was_created_by ?value . ',\n",
       "      'children': [{'id': 'work_creator',\n",
       "        'label': 'Artist/Creator',\n",
       "        'query': ' $subject crm:P14_carried_out_by ?value . '}]},\n",
       "     {'id': 'represented_place',\n",
       "      'label': 'Represented Place',\n",
       "      'query': ' $subject crm:P138_represents ?value . ?value a crm:E53_Place ',\n",
       "      'sources': [{'id': 'zbz', 'field': '651$a'}]}]}]}]"
      ]
     },
     "execution_count": 4,
     "metadata": {},
     "output_type": "execute_result"
    }
   ],
   "source": [
    "modelData"
   ]
  },
  {
   "cell_type": "code",
   "execution_count": 5,
   "metadata": {},
   "outputs": [
    {
     "name": "stdout",
     "output_type": "stream",
     "text": [
      "SELECT * WHERE {\n",
      "$subject a crm:E22_Man-Made_Object\n",
      "OPTIONAL {\n",
      " $subject crm:P2_has_type ?value_artwork_genre . ?value_artwork_genre crm:P2_has_type sari:genre ; rdfs:label ?label_artwork_genre . }\n",
      "OPTIONAL {\n",
      " $subject crm:P2_has_type ?value_artwork_medium . ?value_artwork_medium crm:P2_has_type sari:medium ; rdfs:label ?label_artwork_medium . }\n",
      "OPTIONAL {\n",
      " $subject crm:P128_carries ?value_work .  crm:P128_carries/crm:P94i_was_created_by ?value_work_creation .  crm:P128_carries/crm:P94i_was_created_by/crm:P14_carried_out_by ?value_work_creator .  crm:P128_carries/crm:P138_represents ?value_represented_place . ?value_represented_place a crm:E53_Place }\n",
      "\n",
      "}\n"
     ]
    }
   ],
   "source": [
    "import re\n",
    "def compilePath(child, parentPath=''):\n",
    "    compiledPath = child['query']\n",
    "    subjectPathPattern = r'(?:\\$subject\\s)([^\\s]*)'\n",
    "\n",
    "    try:\n",
    "        path = re.search(subjectPathPattern, child['query']).group(1)\n",
    "    except:\n",
    "        print(\"Could not extract subject path\")\n",
    "        \n",
    "    if parentPath:\n",
    "        completeParentPath = parentPath + '/' + path\n",
    "        compiledPath = re.sub(subjectPathPattern, completeParentPath, compiledPath)\n",
    "    else:\n",
    "        completeParentPath = path\n",
    "        \n",
    "    compiledPath = compiledPath.replace(\"?value\", \"?value_\" + child['id'])\n",
    "    compiledPath = compiledPath.replace(\"?label\", \"?label_\" + child['id'])\n",
    "\n",
    "    if 'children' in child:\n",
    "        for child in child['children']:\n",
    "            compiledPath = compiledPath + compilePath(child, completeParentPath)\n",
    "    return compiledPath\n",
    "\n",
    "def compileQuery(node):\n",
    "    query = \"SELECT * WHERE {\\n\"\n",
    "    query = query + \"$subject a \" + node['type'] + \"\\n\"\n",
    "    for child in node['children']:\n",
    "        query = query + \"OPTIONAL {\\n\" + compilePath(child) + \"}\\n\"\n",
    "        \n",
    "    query = query+\"\\n}\"\n",
    "    return query\n",
    "\n",
    "print(compileQuery(modelData[0]))\n"
   ]
  },
  {
   "cell_type": "code",
   "execution_count": 8,
   "metadata": {},
   "outputs": [
    {
     "name": "stdout",
     "output_type": "stream",
     "text": [
      "crm:P128_carries\n",
      "crm:P128_carries/crm:P94i_was_created_by\n",
      "crm:P128_carries/crm:P94i_was_created_by/crm:P14_carried_out_by\n",
      "crm:P128_carries/crm:P138_represents\n"
     ]
    }
   ],
   "source": [
    "def compilePath(child, parentPath=''):\n",
    "    query = child['query']\n",
    "    \n",
    "    subjectPathPattern = r'(?:\\$subject\\s)([^\\s]*)'\n",
    "    subjectPath = re.search(subjectPathPattern, query).group(1)\n",
    "    \n",
    "    completePath = parentPath + '/' + subjectPath if parentPath else subjectPath\n",
    "    print(completePath)\n",
    "    \n",
    "    if 'children' in child:\n",
    "        for c in child['children']:\n",
    "            compilePath(c, completePath)\n",
    "    \n",
    "compilePath(modelData[0]['children'][2])"
   ]
  },
  {
   "cell_type": "code",
   "execution_count": null,
   "metadata": {},
   "outputs": [],
   "source": []
  },
  {
   "cell_type": "code",
   "execution_count": null,
   "metadata": {},
   "outputs": [],
   "source": []
  },
  {
   "cell_type": "code",
   "execution_count": null,
   "metadata": {},
   "outputs": [],
   "source": []
  },
  {
   "cell_type": "code",
   "execution_count": null,
   "metadata": {},
   "outputs": [],
   "source": []
  },
  {
   "cell_type": "code",
   "execution_count": null,
   "metadata": {},
   "outputs": [],
   "source": []
  }
 ],
 "metadata": {
  "kernelspec": {
   "display_name": "Python 3",
   "language": "python",
   "name": "python3"
  },
  "language_info": {
   "codemirror_mode": {
    "name": "ipython",
    "version": 3
   },
   "file_extension": ".py",
   "mimetype": "text/x-python",
   "name": "python",
   "nbconvert_exporter": "python",
   "pygments_lexer": "ipython3",
   "version": "3.7.3"
  }
 },
 "nbformat": 4,
 "nbformat_minor": 2
}
