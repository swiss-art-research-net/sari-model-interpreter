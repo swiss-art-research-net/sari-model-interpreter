{
 "cells": [
  {
   "cell_type": "code",
   "execution_count": 3,
   "metadata": {},
   "outputs": [],
   "source": [
    "import re\n",
    "import yaml"
   ]
  },
  {
   "cell_type": "code",
   "execution_count": 4,
   "metadata": {},
   "outputs": [],
   "source": [
    "def compilePath(child, parentPath=''):\n",
    "    \"\"\"\n",
    "    Generates the query paths for a given child and all its children\n",
    "\n",
    "    >>> child = {\"id\": \"work\", \"type\": \"crm:E36_Visual_Item\", \"query\": \"$subject crm:P128_carries ?value .\", \"children\": [{\"id\": \"work_creation\", \"query\": \"$subject crm:P94i_was_created_by ?value .\", \"children\" : [{\"id\": \"work_creator\", \"query\" : \"$subject crm:P14_carried_out_by ?value .\" }] }] }\n",
    "    >>> print(compilePath(child, \"\"))\n",
    "    $subject crm:P128_carries ?value_work .\n",
    "    $subject crm:P128_carries/crm:P94i_was_created_by ?value_work_creation .\n",
    "    $subject crm:P128_carries/crm:P94i_was_created_by/crm:P14_carried_out_by ?value_work_creator .\n",
    "    \"\"\"\n",
    "    query = child['query']\n",
    "    optional = child['optional'] if 'optional' in child else False\n",
    "    \n",
    "    subjectPathPattern = r'(?:\\$subject\\s)([^\\s]*)'\n",
    "    subjectPath = re.search(subjectPathPattern, query).group(1)\n",
    "    \n",
    "    completePath = parentPath + '/' + subjectPath if parentPath else subjectPath\n",
    "\n",
    "    query = query.replace(subjectPath, completePath)\n",
    "    \n",
    "    # Namespace variables by prefixing them with (unique) field id\n",
    "    query = re.sub(r'\\?([^\\s/,:,\\-\\\\\\(\\)]*)', r'?\\1_' + child['id'], query)\n",
    "    \n",
    "    if optional:\n",
    "        query = \"OPTIONAL { %s }\\n\" % query\n",
    "    \n",
    "    if 'children' in child:\n",
    "        for c in child['children']:\n",
    "            query = query + \"\\n\" + compilePath(c, completePath)\n",
    "    \n",
    "    return query"
   ]
  },
  {
   "cell_type": "code",
   "execution_count": 5,
   "metadata": {},
   "outputs": [],
   "source": [
    "def compileQuery(node):\n",
    "    \"\"\"\n",
    "    >>> node = {\"id\": \"artwork\", \"label\": \"Artwork\", \"type\": \"crm:E22_Human-Made_Object\", \"children\": [{\"id\": \"work\", \"type\": \"crm:E36_Visual_Item\", \"query\": \"$subject crm:P128_carries ?value .\", \"children\": [{\"id\": \"work_creation\", \"query\": \"$subject crm:P94i_was_created_by ?value .\", \"children\" : [{\"id\": \"work_creator\", \"optional\": True, \"query\" : \"$subject crm:P14_carried_out_by ?value .\" }] }] }]}\n",
    "    >>> print(compileQuery(node))\n",
    "    SELECT * WHERE {\n",
    "    $subject a crm:E22_Human-Made_Object\n",
    "    $subject crm:P128_carries ?value_work .\n",
    "    $subject crm:P128_carries/crm:P94i_was_created_by ?value_work_creation .\n",
    "    OPTIONAL { $subject crm:P128_carries/crm:P94i_was_created_by/crm:P14_carried_out_by ?value_work_creator . }\n",
    "    }\n",
    "    \"\"\"\n",
    "    query = \"SELECT * WHERE {\\n\"\n",
    "    query = query + \"$subject a \" + node['type'] + \"\\n\"\n",
    "    for child in node['children']:\n",
    "        query = query + compilePath(child)\n",
    "        \n",
    "    query = query+\"}\"\n",
    "    return query\n",
    "\n",
    "# print(compileQuery(model[0]))"
   ]
  },
  {
   "cell_type": "code",
   "execution_count": 25,
   "metadata": {},
   "outputs": [],
   "source": [
    "def parseModelFromFile(inputFile):\n",
    "    \"\"\"\n",
    "    Reads input model from filepath\n",
    "\n",
    "    >>> model = parseModelFromFile('../models/bso.yml')\n",
    "    >>> print(type(model))\n",
    "    <class 'list'>\n",
    "    \"\"\"\n",
    "    with open(inputFile, 'r') as f:\n",
    "        modelData = yaml.safe_load(f.read())\n",
    "    return modelData\n",
    "\n"
   ]
  },
  {
   "cell_type": "code",
   "execution_count": 74,
   "metadata": {},
   "outputs": [],
   "source": [
    "inputFile = '../models/bso.yml'\n",
    "model = parseModelFromFile(inputFile)"
   ]
  },
  {
   "cell_type": "code",
   "execution_count": 76,
   "metadata": {},
   "outputs": [
    {
     "name": "stdout",
     "output_type": "stream",
     "text": [
      "Ok\n"
     ]
    }
   ],
   "source": [
    "def verifyModel(model):\n",
    "    \"\"\"\n",
    "    Checks if a given model is valid. Returns \"Ok\" if yes. Otherwise lists errors\n",
    "\n",
    "    >>> model = [{\"id\": \"artwork\", \"query\": \"$subject a crm:E22_Man-Made_Object .\", \"children\": [{\"id\": \"work\", \"type\": \"crm:E36_Visual_Item\", \"query\": \"$subject crm:P128_carries ?value .\", \"children\": [{\"id\": \"work_creation\", \"query\": \"$subject crm:P94i_was_created_by ?value .\", \"children\" : [{\"id\": \"work_creator\", \"query\" : \"$subject crm:P14_carried_out_by ?value .\" }] }]] }}]\n",
    "    >>> verifyModel(model)\n",
    "    \n",
    "    \"\"\"\n",
    "    \n",
    "    def verifyModelNode(node):\n",
    "        id = None\n",
    "        if not 'id' in node:\n",
    "            errors.append(\"No id present in node\")\n",
    "\n",
    "        id = node['id']\n",
    "\n",
    "        if not id in ids:\n",
    "            ids.append(id)\n",
    "        else:\n",
    "            errors.append(\"Duplicate id %s\" % id)\n",
    "\n",
    "        if not 'query' in node and not 'type' in node:\n",
    "            errors.append(\"No query or type present in node %s\" % id)\n",
    "        elif 'query' in node:\n",
    "            if not re.search(r'\\$subject\\s', node['query']):\n",
    "                errors.append(\"No $subject found in query of %s\" %id)\n",
    "            if not re.search(r'\\?value[\\s|\\)]', node['query']):\n",
    "                errors.append(\"No ?value found in query of %s\" %id)\n",
    "\n",
    "        if 'children' in node:\n",
    "            for child in node['children']:\n",
    "                verifyModelNode(child)\n",
    "\n",
    "    ids = []\n",
    "    errors = []\n",
    "    for node in model:\n",
    "        verifyModelNode(node)\n",
    "    \n",
    "    if len(errors):\n",
    "        return \"\\n\".join(errors)\n",
    "    else:\n",
    "        return \"Ok\"\n",
    "        \n",
    "    \n",
    "print(verifyModel(model))"
   ]
  },
  {
   "cell_type": "code",
   "execution_count": null,
   "metadata": {},
   "outputs": [],
   "source": []
  },
  {
   "cell_type": "code",
   "execution_count": null,
   "metadata": {},
   "outputs": [],
   "source": []
  },
  {
   "cell_type": "code",
   "execution_count": null,
   "metadata": {},
   "outputs": [],
   "source": []
  }
 ],
 "metadata": {
  "kernelspec": {
   "display_name": "Python 3",
   "language": "python",
   "name": "python3"
  },
  "language_info": {
   "codemirror_mode": {
    "name": "ipython",
    "version": 3
   },
   "file_extension": ".py",
   "mimetype": "text/x-python",
   "name": "python",
   "nbconvert_exporter": "python",
   "pygments_lexer": "ipython3",
   "version": "3.7.3"
  }
 },
 "nbformat": 4,
 "nbformat_minor": 2
}
