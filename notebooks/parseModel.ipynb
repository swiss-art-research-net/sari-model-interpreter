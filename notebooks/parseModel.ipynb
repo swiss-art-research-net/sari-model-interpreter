{
 "cells": [
  {
   "cell_type": "code",
   "execution_count": 31,
   "metadata": {},
   "outputs": [],
   "source": [
    "import sys\n",
    "sys.path.insert(0, \"../src\")"
   ]
  },
  {
   "cell_type": "code",
   "execution_count": 32,
   "metadata": {},
   "outputs": [],
   "source": [
    "import re\n",
    "import yaml\n",
    "from sariModelInterpreter import modelInterpreter as mi"
   ]
  },
  {
   "cell_type": "code",
   "execution_count": 33,
   "metadata": {},
   "outputs": [],
   "source": [
    "inputFile = '../models/bso.yml'"
   ]
  },
  {
   "cell_type": "code",
   "execution_count": 34,
   "metadata": {},
   "outputs": [],
   "source": [
    "model = mi.parseModelFromFile(inputFile)"
   ]
  },
  {
   "cell_type": "code",
   "execution_count": 37,
   "metadata": {},
   "outputs": [
    {
     "data": {
      "text/plain": [
       "[['artwork', 'work', 'work_creation', 'work_creator'],\n",
       " ['artwork', 'artwork_medium']]"
      ]
     },
     "execution_count": 37,
     "metadata": {},
     "output_type": "execute_result"
    }
   ],
   "source": [
    "def getNodeWithId(model, id):\n",
    "    \n",
    "    def traverseNode(id, node):\n",
    "        if node['id'] == id:\n",
    "            nodeToReturn.append(node)\n",
    "        elif 'children' in node:\n",
    "            for child in node['children']:\n",
    "                traverseNode(id, child)\n",
    "    \n",
    "    nodeToReturn = []\n",
    "    for node in model:\n",
    "        traverseNode(id, node)\n",
    "    \n",
    "    if len(nodeToReturn):\n",
    "        return nodeToReturn[0]\n",
    "    else:\n",
    "        return False\n",
    "\n",
    "def convertModelToGraph(model):\n",
    "    def fillGraph(node):\n",
    "        if 'children' in node:\n",
    "            graph[node['id']] = [d['id'] for d in node['children']]\n",
    "            for child in node['children']:\n",
    "                fillGraph(child)\n",
    "        else:\n",
    "            graph[node['id']] = []   \n",
    "          \n",
    "    graph = {}  \n",
    "    for node in model:\n",
    "        fillGraph(node)\n",
    "        \n",
    "    return graph\n",
    "\n",
    "def findPath(graph, start, end, path=[]):\n",
    "    path = path + [start]\n",
    "    if start == end:\n",
    "        return path\n",
    "    if not start in graph:\n",
    "        return None\n",
    "    for node in graph[start]:\n",
    "        if node not in path:\n",
    "            newPath = findPath(graph, node, end, path)\n",
    "            if newPath:\n",
    "                return newPath\n",
    "    return None\n",
    "    \n",
    "    \n",
    "def compileQueryForNodes(model, rootId, nodeIds):\n",
    "    root = getNodeWithId(model, rootId)\n",
    "    graph = convertModelToGraph(model)\n",
    "    paths = []\n",
    "    for nodeId in nodeIds:\n",
    "        paths.append(findPath(graph, rootId, nodeId))\n",
    "    return paths\n",
    "    \n",
    "compileQueryForNodes(model, 'artwork',['work_creator', 'artwork_medium'])\n"
   ]
  },
  {
   "cell_type": "code",
   "execution_count": null,
   "metadata": {},
   "outputs": [],
   "source": []
  }
 ],
 "metadata": {
  "kernelspec": {
   "display_name": "Python 3",
   "language": "python",
   "name": "python3"
  },
  "language_info": {
   "codemirror_mode": {
    "name": "ipython",
    "version": 3
   },
   "file_extension": ".py",
   "mimetype": "text/x-python",
   "name": "python",
   "nbconvert_exporter": "python",
   "pygments_lexer": "ipython3",
   "version": "3.7.3"
  }
 },
 "nbformat": 4,
 "nbformat_minor": 2
}
