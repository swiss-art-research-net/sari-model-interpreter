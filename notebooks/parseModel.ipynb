{
 "cells": [
  {
   "cell_type": "code",
   "execution_count": 1,
   "metadata": {},
   "outputs": [],
   "source": [
    "import sys\n",
    "sys.path.insert(0, \"../src\")"
   ]
  },
  {
   "cell_type": "code",
   "execution_count": 2,
   "metadata": {},
   "outputs": [],
   "source": [
    "import re\n",
    "import yaml\n",
    "from sariModelInterpreter import modelInterpreter as mi"
   ]
  },
  {
   "cell_type": "code",
   "execution_count": 3,
   "metadata": {},
   "outputs": [],
   "source": [
    "inputFile = '../models/bso.yml'"
   ]
  },
  {
   "cell_type": "code",
   "execution_count": 4,
   "metadata": {},
   "outputs": [],
   "source": [
    "model = mi.parseModelFromFile(inputFile)"
   ]
  },
  {
   "cell_type": "code",
   "execution_count": 5,
   "metadata": {},
   "outputs": [
    {
     "data": {
      "text/plain": [
       "'Ok'"
      ]
     },
     "execution_count": 5,
     "metadata": {},
     "output_type": "execute_result"
    }
   ],
   "source": [
    "mi.verifyModel(model)"
   ]
  },
  {
   "cell_type": "code",
   "execution_count": 6,
   "metadata": {},
   "outputs": [
    {
     "name": "stdout",
     "output_type": "stream",
     "text": [
      "SELECT ($subject as ?artwork) (GROUP_CONCAT(?value_work_creator) as ?work_creator) (?value_work_creation_subcreation_actor as ?work_creation_subcreation_actor) (?value_work_creation_subcreation_type as ?work_creation_subcreation_type) {\n",
      " $subject crm:P128_carries ?value_work . \n",
      " ?value_work crm:P94i_was_created_by ?value_work_creation . \n",
      " ?value_work_creation crm:P14_carried_out_by ?value_work_creator . \n",
      "OPTIONAL {\n",
      "\t $subject crm:P128_carries ?value_work . \n",
      "\t ?value_work crm:P94i_was_created_by ?value_work_creation . \n",
      "\t ?value_work_creation crm:P9_consists_of ?value_work_creation_subcreation . \n",
      "\t ?value_work_creation_subcreation crm:P14_carried_out_by ?value_work_creation_subcreation_actor . \n",
      "\t}\n",
      "OPTIONAL {\n",
      "\t $subject crm:P128_carries ?value_work . \n",
      "\t ?value_work crm:P94i_was_created_by ?value_work_creation . \n",
      "\t ?value_work_creation crm:P9_consists_of ?value_work_creation_subcreation . \n",
      "\t ?value_work_creation_subcreation crm:P2_has_type ?value_work_creation_subcreation_type . \n",
      "\t}\n",
      "} GROUP BY $subject ?value_work_creation_subcreation_actor ?value_work_creation_subcreation_type\n"
     ]
    }
   ],
   "source": [
    "print(mi.compileQueryForNodes(model, \n",
    "                              'artwork',\n",
    "                              ['work_creator', 'work_creation_subcreation_actor', 'work_creation_subcreation_type'], \n",
    "                              group=['work_creator'], \n",
    "                              optional=['work_creation_subcreation_actor', 'work_creation_subcreation_type']))\n"
   ]
  },
  {
   "cell_type": "code",
   "execution_count": null,
   "metadata": {},
   "outputs": [],
   "source": []
  }
 ],
 "metadata": {
  "kernelspec": {
   "display_name": "Python 3",
   "language": "python",
   "name": "python3"
  },
  "language_info": {
   "codemirror_mode": {
    "name": "ipython",
    "version": 3
   },
   "file_extension": ".py",
   "mimetype": "text/x-python",
   "name": "python",
   "nbconvert_exporter": "python",
   "pygments_lexer": "ipython3",
   "version": "3.7.3"
  }
 },
 "nbformat": 4,
 "nbformat_minor": 2
}
