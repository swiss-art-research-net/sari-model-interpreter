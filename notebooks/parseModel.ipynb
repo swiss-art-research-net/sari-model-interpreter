{
 "cells": [
  {
   "cell_type": "code",
   "execution_count": 1,
   "metadata": {},
   "outputs": [],
   "source": [
    "import sys\n",
    "sys.path.insert(0, \"../src\")"
   ]
  },
  {
   "cell_type": "code",
   "execution_count": 2,
   "metadata": {},
   "outputs": [],
   "source": [
    "import re\n",
    "import yaml\n",
    "from sariModelInterpreter import modelInterpreter as mi"
   ]
  },
  {
   "cell_type": "code",
   "execution_count": 3,
   "metadata": {},
   "outputs": [],
   "source": [
    "inputFile = '../models/bso.yml'"
   ]
  },
  {
   "cell_type": "code",
   "execution_count": 4,
   "metadata": {},
   "outputs": [],
   "source": [
    "model = mi.parseModelFromFile(inputFile)"
   ]
  },
  {
   "cell_type": "code",
   "execution_count": 28,
   "metadata": {},
   "outputs": [
    {
     "name": "stdout",
     "output_type": "stream",
     "text": [
      "SELECT ($subject as ?artwork) (?value_work_creator as ?work_creator) (?value_artwork_medium as ?artwork_medium) { \n",
      " $subject crm:P128_carries ?value_work . \n",
      " ?value_work crm:P94i_was_created_by ?value_work_creation . \n",
      " ?value_work_creation crm:P14_carried_out_by ?value_work_creator . \n",
      "\n",
      " $subject crm:P2_has_type ?value_artwork_medium . ?value_artwork_medium crm:P2_has_type aat:300014842 ; rdfs:label ?label_artwork_medium . \n",
      "\n",
      "}\n"
     ]
    }
   ],
   "source": [
    "def getNodeWithId(model, id):\n",
    "    \n",
    "    def traverseNode(id, node):\n",
    "        if node['id'] == id:\n",
    "            nodeToReturn.append(node)\n",
    "        elif 'children' in node:\n",
    "            for child in node['children']:\n",
    "                traverseNode(id, child)\n",
    "    \n",
    "    nodeToReturn = []\n",
    "    for node in model:\n",
    "        traverseNode(id, node)\n",
    "    \n",
    "    if len(nodeToReturn):\n",
    "        return nodeToReturn[0]\n",
    "    else:\n",
    "        return False\n",
    "\n",
    "def convertModelToGraph(model):\n",
    "    def fillGraph(node):\n",
    "        if 'children' in node:\n",
    "            graph[node['id']] = [d['id'] for d in node['children']]\n",
    "            for child in node['children']:\n",
    "                fillGraph(child)\n",
    "        else:\n",
    "            graph[node['id']] = []   \n",
    "          \n",
    "    graph = {}  \n",
    "    for node in model:\n",
    "        fillGraph(node)\n",
    "        \n",
    "    return graph\n",
    "\n",
    "def findPath(graph, start, end, path=[]):\n",
    "    path = path + [start]\n",
    "    if start == end:\n",
    "        return path\n",
    "    if not start in graph:\n",
    "        return None\n",
    "    for node in graph[start]:\n",
    "        if node not in path:\n",
    "            newPath = findPath(graph, node, end, path)\n",
    "            if newPath:\n",
    "                return newPath\n",
    "    return None\n",
    "    \n",
    "def getPathQuery(model, path):\n",
    "    \n",
    "    nodes = {}\n",
    "    queryPath = ''\n",
    "    \n",
    "    for nodeid in path:\n",
    "        nodes[nodeid] = getNodeWithId(model, nodeid)\n",
    "        \n",
    "    prevId = False\n",
    "    for step in path[1:]:\n",
    "        query = mi.namespaceVariablesInQuery(nodes[step]['query'], step)\n",
    "        if prevId:\n",
    "            query = query.replace(\"$subject\", \"?value_\" + prevId)\n",
    "        queryPath += query + \"\\n\"\n",
    "        prevId = step\n",
    "    \n",
    "    return queryPath\n",
    "    \n",
    "def compileQueryForNodes(model, rootId, nodeIds):\n",
    "    root = getNodeWithId(model, rootId)\n",
    "    graph = convertModelToGraph(model)\n",
    "    paths = []\n",
    "    pathQueries = []\n",
    "    for nodeId in nodeIds:\n",
    "        paths.append(findPath(graph, rootId, nodeId))\n",
    "    for path in paths:\n",
    "        pathQueries.append(getPathQuery(model, path))\n",
    "        \n",
    "    query = \"SELECT ($subject as ?%s) \" % rootId\n",
    "    for nodeId in nodeIds:\n",
    "        query += \"(?value_%s as ?%s) \" % (nodeId, nodeId)\n",
    "    query += \"{ \\n\" + \"\\n\".join(pathQueries) + \"\\n}\"\n",
    "    return query\n",
    "    \n",
    "print(compileQueryForNodes(model, 'artwork',['work_creator', 'artwork_medium']))\n"
   ]
  },
  {
   "cell_type": "code",
   "execution_count": null,
   "metadata": {},
   "outputs": [],
   "source": []
  }
 ],
 "metadata": {
  "kernelspec": {
   "display_name": "Python 3",
   "language": "python",
   "name": "python3"
  },
  "language_info": {
   "codemirror_mode": {
    "name": "ipython",
    "version": 3
   },
   "file_extension": ".py",
   "mimetype": "text/x-python",
   "name": "python",
   "nbconvert_exporter": "python",
   "pygments_lexer": "ipython3",
   "version": "3.7.3"
  }
 },
 "nbformat": 4,
 "nbformat_minor": 2
}
