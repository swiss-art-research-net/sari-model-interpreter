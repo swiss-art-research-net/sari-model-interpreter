{
 "cells": [
  {
   "cell_type": "code",
   "execution_count": 1,
   "metadata": {},
   "outputs": [],
   "source": [
    "import sys\n",
    "sys.path.insert(0, \"../src\")"
   ]
  },
  {
   "cell_type": "code",
   "execution_count": 2,
   "metadata": {},
   "outputs": [],
   "source": [
    "import re\n",
    "import yaml\n",
    "from sariModelInterpreter import modelInterpreter as mi"
   ]
  },
  {
   "cell_type": "code",
   "execution_count": 3,
   "metadata": {},
   "outputs": [],
   "source": [
    "inputFile = '../models/bso.yml'"
   ]
  },
  {
   "cell_type": "code",
   "execution_count": 4,
   "metadata": {},
   "outputs": [],
   "source": [
    "model = mi.parseModelFromFile(inputFile)"
   ]
  },
  {
   "cell_type": "code",
   "execution_count": 5,
   "metadata": {},
   "outputs": [
    {
     "data": {
      "text/plain": [
       "'Ok'"
      ]
     },
     "execution_count": 5,
     "metadata": {},
     "output_type": "execute_result"
    }
   ],
   "source": [
    "mi.verifyModel(model)"
   ]
  },
  {
   "cell_type": "code",
   "execution_count": 8,
   "metadata": {
    "scrolled": true
   },
   "outputs": [
    {
     "name": "stdout",
     "output_type": "stream",
     "text": [
      "SELECT ($subject as ?artwork) (?value_artwork_collection as ?artwork_collection) (?value_production_date_formatted as ?production_date_formatted) (?value_work_creation_date_formatted as ?work_creation_date_formatted) (GROUP_CONCAT(?value_work_creator_label) as ?work_creator_label) {\n",
      "$value_work_creator rdfs:label ?value_work_creator_label .\n",
      " $subject crm:P128_carries ?value_work . \n",
      " ?value_work crm:P94i_was_created_by ?value_work_creation . \n",
      " ?value_work_creation crm:P14_carried_out_by ?value_work_creator . \n",
      " $subject crm:P109_has_former_or_current_curator ?value_artwork_collection . \n",
      "OPTIONAL {\n",
      "\t $subject crm:P108i_was_produced_by ?value_production . \n",
      "\t ?value_production crm:P4_has_time-span ?value_production_date . \n",
      "\t ?value_production_date crm:P82a_begin_of_the_begin ?from_production_date_formatted ; crm:P82b_end_of_the_end ?to_production_date_formatted . BIND(YEAR(?from_production_date_formatted) as ?value_production_date_formatted) \n",
      "\t}\n",
      "OPTIONAL {\n",
      "\t $subject crm:P128_carries ?value_work . \n",
      "\t ?value_work crm:P94i_was_created_by ?value_work_creation . \n",
      "\t ?value_work_creation crm:P4_has_time-span ?value_work_creation_date . \n",
      "\t ?value_work_creation_date crm:P82a_begin_of_the_begin ?from_work_creation_date_formatted ; crm:P82b_end_of_the_end ?to_work_creation_date_formatted . BIND(YEAR(?from_work_creation_date_formatted) as ?value_work_creation_date_formatted) \n",
      "\t}\n",
      "} GROUP BY $subject ?value_work_creator ?value_artwork_collection ?value_production_date_formatted ?value_work_creation_date_formatted\n"
     ]
    }
   ],
   "source": [
    "print(mi.compileQueryForNodes(model, \n",
    "                              'artwork',\n",
    "                              ['work_creator', 'artwork_collection', 'production_date_formatted', 'work_creation_date_formatted'], \n",
    "                              group=['work_creator_label'],\n",
    "                              optional=['production_date_formatted', 'work_creation_date_formatted'],\n",
    "                              inject=[{\n",
    "                                  'id': 'work_creator_label',\n",
    "                                  'query': '$value_work_creator rdfs:label ?value .'\n",
    "                              }],\n",
    "                              unselect=['work_creator']))\n"
   ]
  },
  {
   "cell_type": "code",
   "execution_count": null,
   "metadata": {},
   "outputs": [],
   "source": []
  }
 ],
 "metadata": {
  "kernelspec": {
   "display_name": "Python 3",
   "language": "python",
   "name": "python3"
  },
  "language_info": {
   "codemirror_mode": {
    "name": "ipython",
    "version": 3
   },
   "file_extension": ".py",
   "mimetype": "text/x-python",
   "name": "python",
   "nbconvert_exporter": "python",
   "pygments_lexer": "ipython3",
   "version": "3.7.3"
  }
 },
 "nbformat": 4,
 "nbformat_minor": 2
}
