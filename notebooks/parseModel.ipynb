{
 "cells": [
  {
   "cell_type": "code",
   "execution_count": 11,
   "metadata": {},
   "outputs": [],
   "source": [
    "import re\n",
    "import yaml"
   ]
  },
  {
   "cell_type": "code",
   "execution_count": 12,
   "metadata": {},
   "outputs": [],
   "source": [
    "inputFile = '../model.yml'"
   ]
  },
  {
   "cell_type": "code",
   "execution_count": 13,
   "metadata": {},
   "outputs": [],
   "source": [
    "with open(inputFile, 'r') as f:\n",
    "    modelData = yaml.safe_load(f.read())"
   ]
  },
  {
   "cell_type": "code",
   "execution_count": 14,
   "metadata": {},
   "outputs": [
    {
     "name": "stdout",
     "output_type": "stream",
     "text": [
      "SELECT * WHERE {\n",
      "$subject a crm:E22_Man-Made_Object\n",
      "OPTIONAL {  $subject crm:P2_has_type ?value_artwork_genre . ?value_artwork_genre crm:P2_has_type sari:genre ; rdfs:label ?label_artwork_genre .  }\n",
      "OPTIONAL {  $subject crm:P2_has_type ?value_artwork_medium . ?value_artwork_medium crm:P2_has_type sari:medium ; rdfs:label ?label_artwork_medium .  }\n",
      " $subject crm:P128_carries ?value_work . \n",
      " $subject crm:P128_carries/crm:P94i_was_created_by ?value_work_creation . \n",
      "OPTIONAL {  $subject crm:P128_carries/crm:P94i_was_created_by/crm:P14_carried_out_by ?value_work_creator .  }\n",
      "\n",
      "OPTIONAL {  $subject crm:P128_carries/crm:P94i_was_created_by/crm:P9_consists_of ?subcreation_work_creator_with_role . ?subcreation_work_creator_with_role crm:P2_has_type ?subcreation_type_work_creator_with_role ; crm:P14_carried_out_by ?subcreation_person_work_creator_with_role . ?subcreation_type_work_creator_with_role rdfs:label ?subcreation_type_label_work_creator_with_role . ?subcreation_person_work_creator_with_role rdfs:label ?subcreation_person_label_work_creator_with_role . BIND(CONCAT(?subcreation_person_label_work_creator_with_role, \" (\" , ?subcreation_type_label_work_creator_with_role, \")\") as ?value_work_creator_with_role)  }\n",
      "\n",
      "OPTIONAL {  $subject crm:P128_carries/crm:P138_represents ?value_represented_actor . ?value_represented_actor a crm:E39_Actor .  }\n",
      "\n",
      "OPTIONAL {  $subject crm:P128_carries/crm:P138_represents ?value_represented_event . ?value_represented_event a crm:E5_Event .  }\n",
      "\n",
      "OPTIONAL {  $subject crm:P128_carries/crm:P138_represents ?value_represented_group . ?value_represented_group a crm:E74_Group .  }\n",
      "\n",
      "OPTIONAL {  $subject crm:P128_carries/crm:P138_represents ?value_represented_place . ?value_represented_place a crm:E53_Place .  }\n",
      "\n",
      "}\n"
     ]
    }
   ],
   "source": [
    "def compilePath(child, parentPath=''):\n",
    "    query = child['query']\n",
    "    optional = child['optional'] if 'optional' in child else False\n",
    "    \n",
    "    subjectPathPattern = r'(?:\\$subject\\s)([^\\s]*)'\n",
    "    subjectPath = re.search(subjectPathPattern, query).group(1)\n",
    "    \n",
    "    completePath = parentPath + '/' + subjectPath if parentPath else subjectPath\n",
    "\n",
    "    query = query.replace(subjectPath, completePath)\n",
    "    \n",
    "    # Namespace variables by prefixing them with (unique) field id\n",
    "    query = re.sub(r'\\?([^\\s/,:,\\-\\\\\\(\\)]*)', r'?\\1_' + child['id'], query)\n",
    "    \n",
    "    if optional:\n",
    "        query = \"OPTIONAL { %s }\\n\" % query\n",
    "    \n",
    "    if 'children' in child:\n",
    "        for c in child['children']:\n",
    "            query = query + \"\\n\" + compilePath(c, completePath)\n",
    "    \n",
    "    return query\n",
    "\n",
    "def compileQuery(node):\n",
    "    query = \"SELECT * WHERE {\\n\"\n",
    "    query = query + \"$subject a \" + node['type'] + \"\\n\"\n",
    "    for child in node['children']:\n",
    "        query = query + compilePath(child)\n",
    "        \n",
    "    query = query+\"\\n}\"\n",
    "    return query\n",
    "\n",
    "            \n",
    "print(compileQuery(modelData[0]))\n"
   ]
  },
  {
   "cell_type": "code",
   "execution_count": null,
   "metadata": {},
   "outputs": [],
   "source": []
  },
  {
   "cell_type": "code",
   "execution_count": null,
   "metadata": {},
   "outputs": [],
   "source": []
  },
  {
   "cell_type": "code",
   "execution_count": null,
   "metadata": {},
   "outputs": [],
   "source": []
  },
  {
   "cell_type": "code",
   "execution_count": null,
   "metadata": {},
   "outputs": [],
   "source": []
  }
 ],
 "metadata": {
  "kernelspec": {
   "display_name": "Python 3",
   "language": "python",
   "name": "python3"
  },
  "language_info": {
   "codemirror_mode": {
    "name": "ipython",
    "version": 3
   },
   "file_extension": ".py",
   "mimetype": "text/x-python",
   "name": "python",
   "nbconvert_exporter": "python",
   "pygments_lexer": "ipython3",
   "version": "3.7.3"
  }
 },
 "nbformat": 4,
 "nbformat_minor": 2
}
