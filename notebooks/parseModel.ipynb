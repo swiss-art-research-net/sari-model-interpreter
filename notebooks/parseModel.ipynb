{
 "cells": [
  {
   "cell_type": "code",
   "execution_count": 1,
   "metadata": {},
   "outputs": [],
   "source": [
    "import sys\n",
    "sys.path.insert(0, \"../src\")"
   ]
  },
  {
   "cell_type": "code",
   "execution_count": 2,
   "metadata": {},
   "outputs": [],
   "source": [
    "import re\n",
    "import yaml\n",
    "from sariModelInterpreter import modelInterpreter as mi"
   ]
  },
  {
   "cell_type": "code",
   "execution_count": 3,
   "metadata": {},
   "outputs": [],
   "source": [
    "inputFile = '../models/bso.yml'"
   ]
  },
  {
   "cell_type": "code",
   "execution_count": 4,
   "metadata": {},
   "outputs": [],
   "source": [
    "model = mi.parseModelFromFile(inputFile)"
   ]
  },
  {
   "cell_type": "code",
   "execution_count": 8,
   "metadata": {},
   "outputs": [
    {
     "name": "stdout",
     "output_type": "stream",
     "text": [
      "SELECT ?value_work_creator {\n",
      "$subject a crm:E22_Man-Made_Object .\n",
      "OPTIONAL {  $subject crm:P2_has_type ?value_artwork_genre . ?value_artwork_genre crm:P2_has_type aat:300056462 ; rdfs:label ?label_artwork_genre .  }\n",
      " $subject crm:P43_has_dimension ?value_artwork_dimension .  $subject crm:P45_consists_of ?value_artwork_material . OPTIONAL {  $subject crm:P2_has_type ?value_artwork_medium . ?value_artwork_medium crm:P2_has_type aat:300014842 ; rdfs:label ?label_artwork_medium .  }\n",
      " $subject crm:P128_carries ?value_work . \n",
      " $subject crm:P128_carries/crm:P94i_was_created_by ?value_work_creation . \n",
      "OPTIONAL {  $subject crm:P128_carries/crm:P94i_was_created_by/crm:P14_carried_out_by ?value_work_creator .  }\n",
      "\n",
      "OPTIONAL {  $subject crm:P128_carries/crm:P94i_was_created_by/crm:P9_consists_of ?subcreation_work_creator_with_role ; crm:P14_carried_out_by ?subcreation_person_work_creator_with_role . ?subcreation_work_creator_with_role crm:P2_has_type ?subcreation_type_work_creator_with_role ; crm:P14_carried_out_by ?subcreation_person_work_creator_with_role . ?subcreation_type_work_creator_with_role rdfs:label ?subcreation_type_label_work_creator_with_role . ?subcreation_person_work_creator_with_role a crm:E39_Actor ; rdfs:label ?subcreation_person_label_work_creator_with_role . BIND(CONCAT(?subcreation_person_label_work_creator_with_role, \" (\" , ?subcreation_type_label_work_creator_with_role, \")\") as ?value_work_creator_with_role)  }\n",
      "\n",
      "OPTIONAL {  $subject crm:P128_carries/crm:P94i_was_created_by/crm:P9_consists_of ?subcreation_work_creator_group_with_role; crm:P14_carried_out_by ?subcreation_person_work_creator_group_with_role . ?subcreation_work_creator_group_with_role crm:P2_has_type ?subcreation_type_work_creator_group_with_role ; crm:P14_carried_out_by ?subcreation_person_work_creator_group_with_role . ?subcreation_type_work_creator_group_with_role rdfs:label ?subcreation_type_label_work_creator_group_with_role . ?subcreation_person_work_creator_group_with_role a crm:E74_Group ; rdfs:label ?subcreation_person_label_work_creator_group_with_role . BIND(CONCAT(?subcreation_person_label_work_creator_group_with_role, \" (\" , ?subcreation_type_label_work_creator_group_with_role, \")\") as ?value_work_creator_group_with_role)  }\n",
      "\n",
      "OPTIONAL {  $subject crm:P128_carries/crm:P138_represents ?value_represented_actor . ?value_represented_actor a crm:E39_Actor .  }\n",
      "\n",
      "OPTIONAL {  $subject crm:P128_carries/crm:P138_represents/crmdig:L54_is_same-as ?value_represented_actor_same_as .  }\n",
      "\n",
      "OPTIONAL {  $subject crm:P128_carries/crm:P138_represents ?value_represented_event . ?value_represented_event a crm:E5_Event .  }\n",
      "\n",
      "OPTIONAL {  $subject crm:P128_carries/crm:P138_represents/crmdig:L54_is_same-as ?value_represented_event_same_as .  }\n",
      "\n",
      "OPTIONAL {  $subject crm:P128_carries/crm:P138_represents/crm:P4_has_time-span ?value_represented_event_time_span .  }\n",
      "\n",
      "OPTIONAL {  $subject crm:P128_carries/crm:P138_represents/crm:P7_took_place_at ?value_represented_event_place .  }\n",
      "\n",
      "OPTIONAL {  $subject crm:P128_carries/crm:P138_represents ?value_represented_group . ?value_represented_group a crm:E74_Group .  }\n",
      "\n",
      "OPTIONAL {  $subject crm:P128_carries/crm:P138_represents/crmdig:L54_is_same-as ?value_represented_group_same_as .  }\n",
      "\n",
      "OPTIONAL {  $subject crm:P128_carries/crm:P138_represents ?value_represented_place . ?value_represented_place a crm:E53_Place .  }\n",
      "\n",
      "OPTIONAL {  $subject crm:P128_carries/crm:P138_represents/crmdig:L54_is_same-as ?value_represented_place_same_as .  }\n",
      "\n",
      "OPTIONAL {  $subject crm:P128_carries/crm:P138_represents/crm:P3_has_note ?value_represented_place_note .  }\n",
      "\n",
      "OPTIONAL {  $subject crm:P128_carries/crm:P138_represents ?value_represented_period . ?value_represented_period a crm:E4_Period .  }\n",
      "\n",
      "OPTIONAL {  $subject crm:P128_carries/crm:P138_represents ?value_represented_type . ?value_represented_type a crm:E55_Type .  }\n",
      "\n",
      "OPTIONAL {  $subject crm:P128_carries/crm:P138_represents/crmdig:L54_is_same-as ?value_represented_type_same_as .  }\n",
      "}\n"
     ]
    }
   ],
   "source": [
    "print(mi.compileQuery(model[0], select=['work_creator']))"
   ]
  },
  {
   "cell_type": "code",
   "execution_count": null,
   "metadata": {},
   "outputs": [],
   "source": []
  }
 ],
 "metadata": {
  "kernelspec": {
   "display_name": "Python 3",
   "language": "python",
   "name": "python3"
  },
  "language_info": {
   "codemirror_mode": {
    "name": "ipython",
    "version": 3
   },
   "file_extension": ".py",
   "mimetype": "text/x-python",
   "name": "python",
   "nbconvert_exporter": "python",
   "pygments_lexer": "ipython3",
   "version": "3.7.3"
  }
 },
 "nbformat": 4,
 "nbformat_minor": 2
}
